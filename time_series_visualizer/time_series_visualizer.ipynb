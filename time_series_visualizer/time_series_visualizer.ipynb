{
 "cells": [
  {
   "cell_type": "markdown",
   "metadata": {},
   "source": [
    "# Time Series Visualizer\n",
    "\n",
    "For this project you will visualize time series data using a line chart, bar chart, and box plots. You will use Pandas, Matplotlib, and Seaborn to visualize a dataset containing the number of page views each day on the freeCodeCamp.org forum from 2016-05-09 to 2019-12-03. The data visualizations will help you understand the patterns in visits and identify yearly and monthly growth."
   ]
  },
  {
   "cell_type": "markdown",
   "metadata": {},
   "source": [
    "#### Importing Libraries"
   ]
  },
  {
   "cell_type": "code",
   "execution_count": null,
   "metadata": {},
   "outputs": [],
   "source": [
    "import numpy as np\n",
    "import pandas as pd\n",
    "import matplotlib.pyplot as plt\n",
    "import seaborn as sns\n",
    "from pandas.plotting import register_matplotlib_converters\n",
    "register_matplotlib_converters()"
   ]
  },
  {
   "cell_type": "markdown",
   "metadata": {},
   "source": [
    "#### Importing Data"
   ]
  },
  {
   "cell_type": "code",
   "execution_count": null,
   "metadata": {},
   "outputs": [],
   "source": [
    "df = pd.read_csv('fcc-forum-pageviews.csv',\n",
    "                 index_col=0,\n",
    "                 parse_dates=True)"
   ]
  },
  {
   "cell_type": "markdown",
   "metadata": {},
   "source": [
    "#### Cleaning Data"
   ]
  },
  {
   "cell_type": "code",
   "execution_count": null,
   "metadata": {},
   "outputs": [],
   "source": [
    "mask = (df['value'] > df['value'].quantile(0.975)) | (df['value'] < df['value'].quantile(0.025))\n",
    "df = df.drop(df.loc[mask].index)"
   ]
  },
  {
   "cell_type": "markdown",
   "metadata": {},
   "source": [
    "#### Drawing Line Plot"
   ]
  },
  {
   "cell_type": "code",
   "execution_count": null,
   "metadata": {},
   "outputs": [],
   "source": [
    "def draw_line_plot() -> object:\n",
    "    fig, ax = plt.subplots(figsize=(14, 7))\n",
    "    ax.plot(df.index, df['value'])\n",
    "    ax.set_title('Daily freeCodeCamp Forum Page Views 5/2016-12/2019')\n",
    "    ax.set_xlabel('Date')\n",
    "    ax.set_ylabel('Page Views')\n",
    "    fig.savefig('line_plot.png')\n",
    "    \n",
    "    return fig\n",
    "\n",
    "draw_line_plot()"
   ]
  },
  {
   "cell_type": "markdown",
   "metadata": {},
   "source": [
    "#### Drawing Bar Plot"
   ]
  },
  {
   "cell_type": "code",
   "execution_count": null,
   "metadata": {},
   "outputs": [],
   "source": [
    "def draw_bar_plot() -> object:\n",
    "    df_bar = df.copy()\n",
    "    df_bar['year'] = df_bar.index.strftime('%Y')\n",
    "    df_bar['month'] = df_bar.index.strftime('%m')\n",
    "    \n",
    "    years = df_bar.groupby('year')\n",
    "    month_names = ['01', '02', '03',\n",
    "                   '04', '05', '06',\n",
    "                   '07', '08', '09',\n",
    "                   '10', '11', '12']\n",
    "    months = {month: [] for month in month_names}\n",
    "    labels = []\n",
    "    \n",
    "    for k, _ in years:\n",
    "        k = int(k)\n",
    "        labels.append(k)\n",
    "    \n",
    "    labels = np.array(labels, dtype='int')\n",
    "    years_and_months = df_bar.groupby(['year', 'month']) \n",
    "    first_month = df_bar.index[0].strftime('%m')\n",
    "    first_month_num = int(first_month)\n",
    "    \n",
    "    if first_month_num != 1:\n",
    "        for e in months:\n",
    "            if not e == first_month:\n",
    "                months[e].append(0)\n",
    "            else:\n",
    "                break\n",
    "    \n",
    "    for k, v in years_and_months:\n",
    "        months[k[1]].append(v['value'].mean())\n",
    "        \n",
    "    x = np.arange(len(labels))\n",
    "    width = 0.05\n",
    "    \n",
    "    fig, ax = plt.subplots(figsize=(12, 12))\n",
    "    b1 = ax.bar(x - (11 * width/2), months['01'], width, label='January')\n",
    "    b2 = ax.bar(x - (9 * width/2), months['02'], width, label='February')\n",
    "    b3 = ax.bar(x - (7 * width/2), months['03'], width, label='March')\n",
    "    b4 = ax.bar(x - (5 * width/2), months['04'], width, label='April')\n",
    "    b5 = ax.bar(x - (3 * width/2), months['05'], width, label='May')\n",
    "    b6 = ax.bar(x - (1 * width/2), months['06'], width, label='June')\n",
    "    b7 = ax.bar(x + (1 * width/2), months['07'], width, label='July')\n",
    "    b8 = ax.bar(x + (3 * width/2), months['08'], width, label='August')\n",
    "    b9 = ax.bar(x + (5 * width/2), months['09'], width, label='September')\n",
    "    b10 = ax.bar(x + (7 * width/2), months['10'], width, label='October')\n",
    "    b11 = ax.bar(x + (9 * width/2), months['11'], width, label='November')\n",
    "    b12 = ax.bar(x + (11 * width/2), months['12'], width, label='December')\n",
    "    \n",
    "    ax.legend(['January', 'February', 'March',\n",
    "              'April', 'May', 'June',\n",
    "              'July', 'August', 'September',\n",
    "              'October', 'November', 'December'], title='Months')\n",
    "    ax.set_ylabel('Average Page Views')\n",
    "    ax.set_xlabel('Years')\n",
    "    ax.set_xticks(x, labels)\n",
    "    fig.savefig('bar_plot.png')\n",
    "    \n",
    "    return fig\n",
    "\n",
    "draw_bar_plot()"
   ]
  },
  {
   "cell_type": "markdown",
   "metadata": {},
   "source": [
    "#### Drawing Box Plot"
   ]
  },
  {
   "cell_type": "code",
   "execution_count": null,
   "metadata": {},
   "outputs": [],
   "source": [
    "def draw_box_plot() -> object:\n",
    "    df_box = df.copy()\n",
    "    df_box.reset_index(inplace=True)\n",
    "    df_box['year'] = [d.year for d in df_box.date]\n",
    "    df_box['month'] = [d.strftime('%b') for d in df_box.date]\n",
    "\n",
    "    fig, (ax1, ax2) = plt.subplots(nrows=1, ncols=2, figsize=(16, 9))\n",
    "    ax1 = sns.boxplot(ax=ax1, x=df_box['year'], y=df_box['value'])\n",
    "    ax2 = sns.boxplot(ax=ax2, x=df_box['month'], y=df_box['value'], order=['Jan', 'Feb', 'Mar',\n",
    "                                                                     'Apr', 'May', 'Jun',\n",
    "                                                                     'Jul', 'Sep', 'Aug',\n",
    "                                                                     'Oct', 'Nov', 'Dec'])\n",
    "    \n",
    "    ax1.set_title('Year-wise Box Plot (Trend)')\n",
    "    ax2.set_title('Month-wise Box Plot (Seasonality)')\n",
    "\n",
    "    ax1.set_xlabel('Year')\n",
    "    ax1.set_ylabel('Page Views')\n",
    "    \n",
    "    ax2.set_xlabel('Month')\n",
    "    ax2.set_ylabel('Page Views')\n",
    "    \n",
    "    fig.savefig('box_plot.png')\n",
    "    \n",
    "    return fig\n",
    "\n",
    "draw_box_plot()"
   ]
  }
 ],
 "metadata": {
  "interpreter": {
   "hash": "7b7f60159871b3b61dc5dcc5a64e5dfba294b4100bf3033ad6027f0ee689b30e"
  },
  "kernelspec": {
   "display_name": "Python 3.9.7 64-bit ('venv': venv)",
   "language": "python",
   "name": "python3"
  },
  "language_info": {
   "codemirror_mode": {
    "name": "ipython",
    "version": 3
   },
   "file_extension": ".py",
   "mimetype": "text/x-python",
   "name": "python",
   "nbconvert_exporter": "python",
   "pygments_lexer": "ipython3",
   "version": "3.9.7"
  },
  "orig_nbformat": 4
 },
 "nbformat": 4,
 "nbformat_minor": 2
}
