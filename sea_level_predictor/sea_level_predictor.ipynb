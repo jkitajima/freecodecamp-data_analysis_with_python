{
 "cells": [
  {
   "cell_type": "markdown",
   "metadata": {},
   "source": [
    "# Sea Level Predictor\n",
    "\n",
    "Anaylize a dataset of the global average sea level change since 1880.\n",
    "Use the data to predict the sea level change through year 2050."
   ]
  },
  {
   "cell_type": "code",
   "execution_count": null,
   "metadata": {},
   "outputs": [],
   "source": [
    "import numpy as np\n",
    "import pandas as pd\n",
    "import matplotlib.pyplot as plt\n",
    "from scipy.stats import linregress"
   ]
  },
  {
   "cell_type": "markdown",
   "metadata": {},
   "source": [
    "#### Drawing Plot"
   ]
  },
  {
   "cell_type": "code",
   "execution_count": null,
   "metadata": {},
   "outputs": [],
   "source": [
    "def draw_plot() -> object:\n",
    "    data = pd.read_csv('epa-sea-level.csv')\n",
    "    \n",
    "    fig, ax = plt.subplots(figsize=(7,7))\n",
    "    ax.scatter(x=data['Year'], y=data['CSIRO Adjusted Sea Level'])\n",
    "    ax.set_xlabel('Year')\n",
    "    ax.set_ylabel('Sea Level (inches)')\n",
    "    ax.set_title('Rise in Sea Level')\n",
    "    \n",
    "    linreg = linregress(x=data['Year'], y=data['CSIRO Adjusted Sea Level'])\n",
    "    last_year = data['Year'].iloc[data['Year'].last_valid_index()] + 1\n",
    "    final_year = 2050\n",
    "    years = [year for year in data['Year']]\n",
    "    \n",
    "    while final_year >= last_year:\n",
    "        years.append(last_year)        \n",
    "        last_year += 1\n",
    "    \n",
    "    years = pd.Series(years)\n",
    "    best_fit = linreg.slope*years + linreg.intercept\n",
    "    ax.plot(years, best_fit, 'r')\n",
    "    \n",
    "    recent_data = data.drop(data.loc[data['Year'] < 2000].index)\n",
    "    rd_linreg = linregress(x=recent_data['Year'], y=recent_data['CSIRO Adjusted Sea Level'])\n",
    "    recent_years = [year for year in recent_data['Year']]\n",
    "    final_year = 2050\n",
    "    last_year = recent_data['Year'].iloc[-1] + 1\n",
    "    \n",
    "    while final_year >= last_year:\n",
    "        recent_years.append(last_year)\n",
    "        last_year += 1\n",
    "\n",
    "    recent_years = pd.Series(recent_years)\n",
    "    rd_best_fit = rd_linreg.slope*recent_years + rd_linreg.intercept\n",
    "    ax.plot(recent_years, rd_best_fit, 'b')\n",
    "    plt.savefig('sea_level_plot.png')\n",
    "    \n",
    "    return plt.gca()\n",
    "\n",
    "draw_plot()"
   ]
  }
 ],
 "metadata": {
  "interpreter": {
   "hash": "7b7f60159871b3b61dc5dcc5a64e5dfba294b4100bf3033ad6027f0ee689b30e"
  },
  "kernelspec": {
   "display_name": "Python 3.9.7 64-bit ('venv': venv)",
   "language": "python",
   "name": "python3"
  },
  "language_info": {
   "codemirror_mode": {
    "name": "ipython",
    "version": 3
   },
   "file_extension": ".py",
   "mimetype": "text/x-python",
   "name": "python",
   "nbconvert_exporter": "python",
   "pygments_lexer": "ipython3",
   "version": "3.9.7"
  },
  "orig_nbformat": 4
 },
 "nbformat": 4,
 "nbformat_minor": 2
}
